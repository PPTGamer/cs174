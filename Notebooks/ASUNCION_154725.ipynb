{
 "cells": [
  {
   "cell_type": "markdown",
   "metadata": {},
   "source": [
    "# Problem Set 2 CS174\n",
    "---\n",
    "The following problem set will focus on the lessons on Numpy and advanced Python functions. Answer the following guide questions by writing functions or code in cells that accomplish the requirements.\n",
    "\n",
    "1. Create a function that takes in 3 parameters (integer n, integer a, integer b), and generates an nxn numpy matrix with random values from the range a to b inclusive. **2 pts.**\n",
    "\n",
    "2. Present a count plot of the top 20 occurring words in **data/networks.txt**. Use the stopword file **data/stop.txt** to filter out the stopwords **2 pts.**\n",
    "\n",
    "3. Using **data/ateneo.txt** and **data/tl-en.txt**, convert the phrases into straight english phrases. Leave words with no translation be. **6 pts.**\n",
    "\n",
    "4. Using **data/tl-en.txt**, create a one-to-one English to Filipino translation of your favorite English song. Develop functions to handle pluralities, and multiple entry results. Discuss your code and please put at least 1-liner docs for the functions. **10 pts.**\n",
    "       \n",
    "### Bonus:\n",
    "Repeat #4 but do a Filipino to English translation of your favorite Filipno song. Same specs apply. **5 pts.**"
   ]
  },
  {
   "cell_type": "markdown",
   "metadata": {},
   "source": [
    "Deadline **Feb 20 11:59PM**. Submission link to be posted in Moodle. \n",
    "Submit the .ipynb file only with name <SURNAME>_<ID NUMBER>.ipynb. \n",
    "    \n",
    "Sample: **\"BAUTISTA_110464.ipynb\"**"
   ]
  },
  {
   "cell_type": "code",
   "execution_count": 1,
   "metadata": {},
   "outputs": [],
   "source": [
    "import numpy as np"
   ]
  },
  {
   "cell_type": "markdown",
   "metadata": {},
   "source": [
    "### Problem 1\n",
    "Create a function that takes in 3 parameters (integer n, integer a, integer b), and generates an nxn numpy matrix with random values from the range a to b inclusive. **2 pts.**"
   ]
  },
  {
   "cell_type": "code",
   "execution_count": 2,
   "metadata": {},
   "outputs": [],
   "source": [
    "def randomMatrix(n, a, b):\n",
    "    b_prime = np.nextafter(b,b+1)  # [a, b') = [a,b]\n",
    "    return np.random.rand(n,n)*(b_prime-a) + a #[0,1) * (b'-a) = [0, b-a]"
   ]
  },
  {
   "cell_type": "code",
   "execution_count": 3,
   "metadata": {},
   "outputs": [
    {
     "name": "stdout",
     "output_type": "stream",
     "text": [
      "[[2.39941346 6.96637743 6.17383997]\n",
      " [4.37627439 3.29130568 2.18643873]\n",
      " [5.72817185 7.65398421 2.4454089 ]]\n",
      "[[20. 20. 20. 20.]\n",
      " [20. 20. 20. 20.]\n",
      " [20. 20. 20. 20.]\n",
      " [20. 20. 20. 20.]]\n",
      "[[10.92033616 10.1120785  10.75850591 10.40475091 10.32744881]\n",
      " [10.98708217 10.50001945 10.21854459 10.03170063 10.51443266]\n",
      " [10.13870562 10.86840404 10.54247082 10.04257865 10.70026222]\n",
      " [10.53305881 10.06832364 10.89474626 10.58193383 10.07430743]\n",
      " [10.37324843 10.06098161 10.4511548  10.5148885  10.98053705]]\n"
     ]
    }
   ],
   "source": [
    "print(randomMatrix(3,1,10))\n",
    "print(randomMatrix(4,20,20))\n",
    "print(randomMatrix(5,10,11))"
   ]
  },
  {
   "cell_type": "markdown",
   "metadata": {},
   "source": [
    "### Problem 2\n",
    "Present a count plot of the top 20 occurring words in **data/networks.txt**. Use the stopword file **data/stop.txt** to filter out the stopwords **2 pts.**"
   ]
  },
  {
   "cell_type": "markdown",
   "metadata": {},
   "source": [
    "This function cleans uses whitepace and punctuation to convert an array of lines of text into an array of words."
   ]
  },
  {
   "cell_type": "code",
   "execution_count": 4,
   "metadata": {},
   "outputs": [],
   "source": [
    "import string\n",
    "def getWordList(lines):\n",
    "    wordlist = []\n",
    "    for line in lines:\n",
    "        # split to remove whitespace.\n",
    "        for word in line.split():\n",
    "            # transform to lowercase, remove leading/trailing punctuation.\n",
    "            word = word.lower().strip(string.punctuation)\n",
    "            wordlist.append(word)\n",
    "    return wordlist"
   ]
  },
  {
   "cell_type": "markdown",
   "metadata": {},
   "source": [
    "We obtain the wordlist of `networks.txt`."
   ]
  },
  {
   "cell_type": "code",
   "execution_count": 5,
   "metadata": {},
   "outputs": [],
   "source": [
    "f = open('data/networks.txt', 'r')\n",
    "num2_data = f.readlines()\n",
    "f.close()\n",
    "num2_word_list = getWordList(num2_data)"
   ]
  },
  {
   "cell_type": "markdown",
   "metadata": {},
   "source": [
    "We concatenate all the words into a single string, so we can leave the word splitting to a Python package. This cleans up _some_ of the dirty data."
   ]
  },
  {
   "cell_type": "code",
   "execution_count": 6,
   "metadata": {},
   "outputs": [
    {
     "data": {
      "text/plain": [
       "'disadvantagesandadvantagesofnetworkssincethefirstc'"
      ]
     },
     "execution_count": 6,
     "metadata": {},
     "output_type": "execute_result"
    }
   ],
   "source": [
    "num2_joined = ''.join(num2_word_list)\n",
    "num2_joined[:50]"
   ]
  },
  {
   "cell_type": "markdown",
   "metadata": {},
   "source": [
    "We use WordNinja (install: `pip install wordninja`) to probabilistically perform word segmentation based on a built-in model of word frequencies."
   ]
  },
  {
   "cell_type": "code",
   "execution_count": 7,
   "metadata": {
    "scrolled": false
   },
   "outputs": [
    {
     "data": {
      "text/plain": [
       "['disadvantages',\n",
       " 'and',\n",
       " 'advantages',\n",
       " 'of',\n",
       " 'networks',\n",
       " 'since',\n",
       " 'the',\n",
       " 'first',\n",
       " 'concoction',\n",
       " 'of']"
      ]
     },
     "execution_count": 7,
     "metadata": {},
     "output_type": "execute_result"
    }
   ],
   "source": [
    "import wordninja\n",
    "num2_word_list = wordninja.split(num2_joined)\n",
    "num2_word_list[:10]"
   ]
  },
  {
   "cell_type": "markdown",
   "metadata": {},
   "source": [
    "Next, we filter out the stop words."
   ]
  },
  {
   "cell_type": "code",
   "execution_count": 8,
   "metadata": {},
   "outputs": [
    {
     "data": {
      "text/plain": [
       "['disadvantages',\n",
       " 'advantages',\n",
       " 'since',\n",
       " 'first',\n",
       " 'concoction',\n",
       " 'nexus',\n",
       " 'computational',\n",
       " 'processing',\n",
       " 'power',\n",
       " 'late']"
      ]
     },
     "execution_count": 8,
     "metadata": {},
     "output_type": "execute_result"
    }
   ],
   "source": [
    "f = open('data/stop.txt', 'r')\n",
    "stop_words_data = f.readlines()\n",
    "f.close()\n",
    "stop_words = getWordList(stop_words_data)\n",
    "num2_word_list = list(filter(lambda x: x not in stop_words, num2_word_list))\n",
    "num2_word_list[:10]"
   ]
  },
  {
   "cell_type": "markdown",
   "metadata": {},
   "source": [
    "We now use modified versions of the functions from PS1 to present a count plot of the top 20 occurring words in **data/networks.txt**. "
   ]
  },
  {
   "cell_type": "code",
   "execution_count": 9,
   "metadata": {},
   "outputs": [
    {
     "data": {
      "image/png": "[encoded data removed]",
      "text/plain": [
       "<Figure size 720x720 with 1 Axes>"
      ]
     },
     "metadata": {
      "needs_background": "light"
     },
     "output_type": "display_data"
    }
   ],
   "source": [
    "import matplotlib.pyplot as plt\n",
    "%matplotlib inline\n",
    "\n",
    "def getFreqDict(wordlist):\n",
    "    frequency_dict = {}\n",
    "    for word in wordlist:\n",
    "        if word in frequency_dict:\n",
    "            frequency_dict[word] += 1\n",
    "        else:\n",
    "            frequency_dict[word] = 1\n",
    "    return frequency_dict\n",
    "\n",
    "def plotFreqDict(frequency_dict, lim = None):\n",
    "    words, freqs = zip(*frequency_dict.items()) \n",
    "\n",
    "    if lim is None:\n",
    "        lim = range(len(frequency_dict))\n",
    "    indSort = np.argsort(freqs)\n",
    "    words = np.array(words)[indSort]\n",
    "    freqs = np.array(freqs)[indSort]\n",
    "\n",
    "    \n",
    "    plt.barh(range(len(frequency_dict)), freqs,zorder=3)\n",
    "    plt.grid(True,zorder=0)\n",
    "    plt.yticks(range(len(words)), words)\n",
    "    plt.ylim(len(words)-lim-0.5,len(words))\n",
    "    plt.xlabel('Frequency')\n",
    "    plt.plot()\n",
    "\n",
    "plt.rcParams['figure.figsize'] = [10, 10]\n",
    "plt.title('Count plot of top 20 occuring words in networks.txt')\n",
    "plotFreqDict(getFreqDict(num2_word_list), lim=20)\n",
    "plt.show()"
   ]
  },
  {
   "cell_type": "markdown",
   "metadata": {},
   "source": [
    "### Problem 3\n",
    "Using **data/ateneo.txt** and **data/tl-en.txt**, convert the phrases into straight english phrases. Leave words with no translation be. **6 pts.**"
   ]
  },
  {
   "cell_type": "markdown",
   "metadata": {},
   "source": [
    "We load the data files. For the TL->EN dictionary, to handle one-to-many mappings, we create a dictionary which maps a TL word to a list of EN candidate translations. A similar procedure is used for the EN->TL dictionary."
   ]
  },
  {
   "cell_type": "code",
   "execution_count": 10,
   "metadata": {},
   "outputs": [
    {
     "name": "stdout",
     "output_type": "stream",
     "text": [
      "Pretty printing has been turned OFF\n"
     ]
    }
   ],
   "source": [
    "import nltk\n",
    "%pprint"
   ]
  },
  {
   "cell_type": "code",
   "execution_count": 11,
   "metadata": {},
   "outputs": [],
   "source": [
    "f = open('data/ateneo.txt', 'r')\n",
    "num3_ateneo = f.readlines()\n",
    "f.close()\n",
    "f = open('data/tl-en.txt', 'r', errors='ignore')\n",
    "tlen_data = f.readlines()\n",
    "f.close()"
   ]
  },
  {
   "cell_type": "code",
   "execution_count": 12,
   "metadata": {},
   "outputs": [],
   "source": [
    "tlen_dictionary = {}\n",
    "entl_dictionary = {}\n",
    "for pair in tlen_data:\n",
    "    tl, en, *rest = pair.split()\n",
    "    if tl in tlen_dictionary:\n",
    "        tlen_dictionary[tl].append(en)\n",
    "    else:\n",
    "        tlen_dictionary[tl] = [en]\n",
    "        \n",
    "    if en in entl_dictionary:\n",
    "        entl_dictionary[en].append(tl)\n",
    "    else:\n",
    "        entl_dictionary[en] = [tl]"
   ]
  },
  {
   "cell_type": "markdown",
   "metadata": {},
   "source": [
    "We form a bag of words using a corpus provided in NLTK.\n",
    "\n",
    "First, we obtain a list of unique words in the corpus. No stopwords are filtered and no lemmatization is applied, since `tl-en.txt` contains conjugated words and stopwords.\n",
    "\n",
    "To reduce the list size, we ignore words that only occur once."
   ]
  },
  {
   "cell_type": "code",
   "execution_count": 13,
   "metadata": {},
   "outputs": [
    {
     "name": "stdout",
     "output_type": "stream",
     "text": [
      "27586\n",
      "Wall time: 5.09 s\n"
     ]
    }
   ],
   "source": [
    "%%time\n",
    "import collections\n",
    "from nltk.corpus import brown\n",
    "raw_sentences = [' '.join(sent) for sent in brown.sents()]\n",
    "corpus_unique_words = getWordList(raw_sentences)\n",
    "d = collections.defaultdict(int)\n",
    "for x in corpus_unique_words: d[x]+=1\n",
    "corpus_unique_words = set([x for x in d.keys() if d[x]>1])\n",
    "corpus_unique_words.discard('')\n",
    "corpus_unique_words = list(corpus_unique_words)\n",
    "print(len(corpus_unique_words))"
   ]
  },
  {
   "cell_type": "code",
   "execution_count": 14,
   "metadata": {},
   "outputs": [
    {
     "name": "stdout",
     "output_type": "stream",
     "text": [
      "27009\n"
     ]
    }
   ],
   "source": [
    "import re\n",
    "# only keep words with some alphabetical character\n",
    "corpus_unique_words = list(filter(lambda x: re.search('[a-zA-Z]', x), corpus_unique_words))\n",
    "print(len(corpus_unique_words))"
   ]
  },
  {
   "cell_type": "code",
   "execution_count": 15,
   "metadata": {},
   "outputs": [
    {
     "data": {
      "text/plain": [
       "57340"
      ]
     },
     "execution_count": 15,
     "metadata": {},
     "output_type": "execute_result"
    }
   ],
   "source": [
    "len(raw_sentences)"
   ]
  },
  {
   "cell_type": "markdown",
   "metadata": {},
   "source": [
    "This function `vectorize` converts a sentence to a bag-of-words-like vector with respect to the given set of unique words. Instead of being one-hot-encoded, the word frequencies are recorded."
   ]
  },
  {
   "cell_type": "code",
   "execution_count": 16,
   "metadata": {},
   "outputs": [],
   "source": [
    "def vectorize(unique_word_set, sentence):\n",
    "    freq_dict = {}\n",
    "    for word in unique_word_set:\n",
    "        freq_dict[word] = 0\n",
    "    for word in sentence.split():\n",
    "            # transform to lowercase, remove leading/trailing punctuation.\n",
    "            word = word.lower().strip(string.punctuation)\n",
    "            if word in freq_dict:\n",
    "                freq_dict[word] += 1\n",
    "    return np.array(list(freq_dict.values()))"
   ]
  },
  {
   "cell_type": "markdown",
   "metadata": {},
   "source": [
    "We test the `vectorize` function by seeing the words encoded by the vector for the first sentence."
   ]
  },
  {
   "cell_type": "code",
   "execution_count": 17,
   "metadata": {},
   "outputs": [
    {
     "name": "stdout",
     "output_type": "stream",
     "text": [
      "The Fulton County Grand Jury said Friday an investigation of Atlanta's recent primary election produced `` no evidence '' that any irregularities took place .\n",
      "fulton\n",
      "the\n",
      "friday\n",
      "county\n",
      "investigation\n",
      "no\n",
      "recent\n",
      "primary\n",
      "that\n",
      "any\n",
      "grand\n",
      "of\n",
      "election\n",
      "evidence\n",
      "atlanta's\n",
      "irregularities\n",
      "place\n",
      "jury\n",
      "took\n",
      "produced\n",
      "an\n",
      "said\n",
      "Wall time: 130 ms\n"
     ]
    }
   ],
   "source": [
    "%%time\n",
    "print(' '.join(brown.sents()[0]))\n",
    "vec = vectorize(corpus_unique_words, ' '.join(brown.sents()[0]))\n",
    "for x in range(len(vec)):\n",
    "    if vec[x] > 0:\n",
    "        print(corpus_unique_words[x])"
   ]
  },
  {
   "cell_type": "markdown",
   "metadata": {},
   "source": [
    "We get the **average** of some vectors and name this vector `ave_vector`."
   ]
  },
  {
   "cell_type": "code",
   "execution_count": 18,
   "metadata": {},
   "outputs": [
    {
     "name": "stdout",
     "output_type": "stream",
     "text": [
      "Wall time: 6.34 s\n"
     ]
    }
   ],
   "source": [
    "%%time\n",
    "ave_vector = np.zeros(len(corpus_unique_words))\n",
    "for sent in brown.sents()[:1000]:\n",
    "    ave_vector += vectorize(corpus_unique_words, ' '.join(sent))\n",
    "ave_vector/=1000"
   ]
  },
  {
   "cell_type": "code",
   "execution_count": 19,
   "metadata": {},
   "outputs": [
    {
     "data": {
      "text/plain": [
       "array([0., 0., 0., ..., 0., 0., 0.])"
      ]
     },
     "execution_count": 19,
     "metadata": {},
     "output_type": "execute_result"
    }
   ],
   "source": [
    "ave_vector"
   ]
  },
  {
   "cell_type": "markdown",
   "metadata": {},
   "source": [
    "These return the punctuation which would be stripped from the left and from the right of a string."
   ]
  },
  {
   "cell_type": "code",
   "execution_count": 20,
   "metadata": {},
   "outputs": [],
   "source": [
    "\n",
    "def lstripped(s):\n",
    "    s = s + \"-?-\"\n",
    "    return s.replace(s.lstrip(string.punctuation), '')\n",
    "\n",
    "def rstripped(s):\n",
    "    s = \"-?-\" + s \n",
    "    return s.replace(s.rstrip(string.punctuation), '')\n"
   ]
  },
  {
   "cell_type": "markdown",
   "metadata": {},
   "source": [
    "This restores the punctuation of a capitalization of a word given a template word as a pattern."
   ]
  },
  {
   "cell_type": "code",
   "execution_count": 21,
   "metadata": {},
   "outputs": [],
   "source": [
    "def restore_format(source, pattern):\n",
    "    if pattern.strip(string.punctuation)[0].isupper():\n",
    "        return lstripped(pattern) + source[0].upper() + source[1:] + rstripped(pattern)\n",
    "    else:\n",
    "        return lstripped(pattern) + source + rstripped(pattern)"
   ]
  },
  {
   "cell_type": "markdown",
   "metadata": {},
   "source": [
    "This function chooses the translation candidate for a word in a sentence based on the vector distance between the resulting sentence and `ave_vector`."
   ]
  },
  {
   "cell_type": "code",
   "execution_count": 22,
   "metadata": {},
   "outputs": [],
   "source": [
    "def choose_translation(candidates, sentence, debug=True):\n",
    "    raw_sentence = ' '.join(['' if isinstance(x,list) else x for x in sentence])\n",
    "    min_dist = float(\"inf\")\n",
    "    min_x = candidates[0]\n",
    "    for x in candidates:\n",
    "        dist = np.linalg.norm(vectorize(corpus_unique_words, raw_sentence + \" \" + x) - ave_vector)\n",
    "        if debug: print(x, dist)\n",
    "        if dist < min_dist:\n",
    "            min_dist = dist\n",
    "            min_x = x\n",
    "    return min_x"
   ]
  },
  {
   "cell_type": "markdown",
   "metadata": {},
   "source": [
    "We translate the sentences using the following steps.\n",
    "1. For every sentence, we first split into words, then apply the dictionary.\n",
    " \n",
    "2. If a word in the sentence matches a TL word in the dictionary, we first replace it with the list of possible EN candidates.\n",
    "\n",
    "3. If there is only one EN candidate, we apply the dictionary directly. We do this first in order to increase the English information in the sentence, which would assist in the next step.\n",
    "\n",
    "4. To handle cases where there are multiple EN translations for a single TL word, we choose a word depending on the  distance between `ave_vector` and the resulting vector if the sentence was vectorized with a given translation choice.\n",
    "\n",
    "5. We restore the original punctuation and capitalization of the sentence by looking at the formatting of the corresponding word in the source sentence."
   ]
  },
  {
   "cell_type": "code",
   "execution_count": 23,
   "metadata": {},
   "outputs": [
    {
     "name": "stdout",
     "output_type": "stream",
     "text": [
      "Sentence: \"Manong, para lang d'yan sa may side.\"\n",
      "Step 1:\t ['manong', 'para', 'lang', \"d'yan\", 'sa', 'may', 'side']\n",
      "Step 2:\t ['manong', ['to'], ['only'], \"d'yan\", 'sa', ['there', 'have'], 'side']\n",
      "Step 3:\t ['manong', 'to', 'only', \"d'yan\", 'sa', ['there', 'have'], 'side']\n",
      "there 2.6646296177893154\n",
      "have 2.659746416484104\n",
      "Step 4:\t ['manong', 'to', 'only', \"d'yan\", 'sa', 'have', 'side']\n",
      "Step 5:\t \"Manong, to only d'yan sa have side.\"\n",
      "\n",
      "Sentence: \"Mej hassle naman this rain.\"\n",
      "Step 1:\t ['mej', 'hassle', 'naman', 'this', 'rain']\n",
      "Step 2:\t ['mej', 'hassle', ['naman'], 'this', 'rain']\n",
      "Step 3:\t ['mej', 'hassle', 'naman', 'this', 'rain']\n",
      "Step 4:\t ['mej', 'hassle', 'naman', 'this', 'rain']\n",
      "Step 5:\t \"Mej hassle naman this rain.\"\n",
      "\n",
      "Sentence: \"Ano, bro? Katip later? G?\"\n",
      "Step 1:\t ['ano', 'bro', 'katip', 'later', 'g']\n",
      "Step 2:\t [['what'], ['bro'], 'katip', 'later', 'g']\n",
      "Step 3:\t ['what', 'bro', 'katip', 'later', 'g']\n",
      "Step 4:\t ['what', 'bro', 'katip', 'later', 'g']\n",
      "Step 5:\t \"What, bro? Katip later? G?\"\n",
      "\n",
      "Sentence: \"Wait, I'm like gonna dinner lang with the fambam.\"\n",
      "Step 1:\t ['wait', \"i'm\", 'like', 'gonna', 'dinner', 'lang', 'with', 'the', 'fambam']\n",
      "Step 2:\t [['wait'], \"i'm\", ['like'], ['gonna'], 'dinner', ['only'], 'with', 'the', 'fambam']\n",
      "Step 3:\t ['wait', \"i'm\", 'like', 'gonna', 'dinner', 'only', 'with', 'the', 'fambam']\n",
      "Step 4:\t ['wait', \"i'm\", 'like', 'gonna', 'dinner', 'only', 'with', 'the', 'fambam']\n",
      "Step 5:\t \"Wait, I'm like gonna dinner only with the fambam.\"\n",
      "\n",
      "Sentence: \"Which car am I gonna take today kaya?\"\n",
      "Step 1:\t ['which', 'car', 'am', 'i', 'gonna', 'take', 'today', 'kaya']\n",
      "Step 2:\t ['which', 'car', 'am', 'i', ['gonna'], 'take', 'today', ['so']]\n",
      "Step 3:\t ['which', 'car', 'am', 'i', 'gonna', 'take', 'today', 'so']\n",
      "Step 4:\t ['which', 'car', 'am', 'i', 'gonna', 'take', 'today', 'so']\n",
      "Step 5:\t \"Which car am I gonna take today so?\"\n",
      "\n",
      "Sentence: \"Don't make tusok sa fishball muna, it's not lutong yet.\"\n",
      "Step 1:\t [\"don't\", 'make', 'tusok', 'sa', 'fishball', 'muna', \"it's\", 'not', 'lutong', 'yet']\n",
      "Step 2:\t [\"don't\", 'make', ['stitch'], 'sa', 'fishball', ['muna', 'first'], \"it's\", 'not', ['cuisine'], 'yet']\n",
      "Step 3:\t [\"don't\", 'make', 'stitch', 'sa', 'fishball', ['muna', 'first'], \"it's\", 'not', 'cuisine', 'yet']\n",
      "muna 3.181862819167436\n",
      "first 3.3265975109712556\n",
      "Step 4:\t [\"don't\", 'make', 'stitch', 'sa', 'fishball', 'muna', \"it's\", 'not', 'cuisine', 'yet']\n",
      "Step 5:\t \"Don't make stitch sa fishball muna, it's not cuisine yet.\"\n",
      "\n",
      "Sentence: \"Kuya magkano po yung neon balls?\"\n",
      "Step 1:\t ['kuya', 'magkano', 'po', 'yung', 'neon', 'balls']\n",
      "Step 2:\t [['brother'], ['much'], 'po', ['the', 'yung'], ['neon'], 'balls']\n",
      "Step 3:\t ['brother', 'much', 'po', ['the', 'yung'], 'neon', 'balls']\n",
      "the 2.6788525528666325\n",
      "yung 3.0519257854672714\n",
      "Step 4:\t ['brother', 'much', 'po', 'the', 'neon', 'balls']\n",
      "Step 5:\t \"Brother much po the neon balls?\"\n",
      "\n",
      "Sentence: \"Pweds ka ba later?\"\n",
      "Step 1:\t ['pweds', 'ka', 'ba', 'later']\n",
      "Step 2:\t ['pweds', 'ka', 'ba', 'later']\n",
      "Step 3:\t ['pweds', 'ka', 'ba', 'later']\n",
      "Step 4:\t ['pweds', 'ka', 'ba', 'later']\n",
      "Step 5:\t \"Pweds ka ba later?\"\n",
      "\n",
      "Sentence: \"Ugh, there's no parking space pa. Eh, I'm late na nga.\"\n",
      "Step 1:\t ['ugh', \"there's\", 'no', 'parking', 'space', 'pa', 'eh', \"i'm\", 'late', 'na', 'nga']\n",
      "Step 2:\t ['ugh', \"there's\", 'no', ['parking'], ['space'], 'pa', 'eh', \"i'm\", ['late'], 'na', ['nga']]\n",
      "Step 3:\t ['ugh', \"there's\", 'no', 'parking', 'space', 'pa', 'eh', \"i'm\", 'late', 'na', 'nga']\n",
      "Step 4:\t ['ugh', \"there's\", 'no', 'parking', 'space', 'pa', 'eh', \"i'm\", 'late', 'na', 'nga']\n",
      "Step 5:\t \"Ugh, there's no parking space pa. Eh, I'm late na nga.\"\n",
      "\n",
      "Sentence: \"It's like, super intense talaga. As in grabe.\"\n",
      "Step 1:\t [\"it's\", 'like', 'super', 'intense', 'talaga', 'as', 'in', 'grabe']\n",
      "Step 2:\t [\"it's\", ['like'], ['super'], 'intense', ['really'], 'as', 'in', ['extreme']]\n",
      "Step 3:\t [\"it's\", 'like', 'super', 'intense', 'really', 'as', 'in', 'extreme']\n",
      "Step 4:\t [\"it's\", 'like', 'super', 'intense', 'really', 'as', 'in', 'extreme']\n",
      "Step 5:\t \"It's like, super intense really. As in extreme.\"\n",
      "\n",
      "Sentence: \"I'll make paalam pa. You know naman my dad is strict, eh.\"\n",
      "Step 1:\t [\"i'll\", 'make', 'paalam', 'pa', 'you', 'know', 'naman', 'my', 'dad', 'is', 'strict', 'eh']\n",
      "Step 2:\t [\"i'll\", 'make', ['farewell', 'goodbye'], 'pa', 'you', 'know', ['naman'], 'my', ['dad'], 'is', 'strict', 'eh']\n",
      "Step 3:\t [\"i'll\", 'make', ['farewell', 'goodbye'], 'pa', 'you', 'know', 'naman', 'my', 'dad', 'is', 'strict', 'eh']\n",
      "farewell 3.861120433242158\n",
      "goodbye 3.8611204332421507\n",
      "Step 4:\t [\"i'll\", 'make', 'goodbye', 'pa', 'you', 'know', 'naman', 'my', 'dad', 'is', 'strict', 'eh']\n",
      "Step 5:\t \"I'll make goodbye pa. You know naman my dad is strict, eh.\"\n",
      "\n",
      "Sentence: \"You're, like, so tagal ha.\"\n",
      "Step 1:\t [\"you're\", 'like', 'so', 'tagal', 'ha']\n",
      "Step 2:\t [\"you're\", ['like'], 'so', ['duration'], 'ha']\n",
      "Step 3:\t [\"you're\", 'like', 'so', 'duration', 'ha']\n",
      "Step 4:\t [\"you're\", 'like', 'so', 'duration', 'ha']\n",
      "Step 5:\t \"You're, like, so duration ha.\"\n",
      "\n",
      "Sentence: \"Make it fast lang ha?\"\n",
      "Step 1:\t ['make', 'it', 'fast', 'lang', 'ha']\n",
      "Step 2:\t ['make', 'it', ['fast'], ['only'], 'ha']\n",
      "Step 3:\t ['make', 'it', 'fast', 'only', 'ha']\n",
      "Step 4:\t ['make', 'it', 'fast', 'only', 'ha']\n",
      "Step 5:\t \"Make it fast only ha?\"\n",
      "\n",
      "Sentence: \"What's wrong with being conyo ba?\"\n",
      "Step 1:\t [\"what's\", 'wrong', 'with', 'being', 'conyo', 'ba']\n",
      "Step 2:\t [\"what's\", 'wrong', 'with', 'being', 'conyo', 'ba']\n",
      "Step 3:\t [\"what's\", 'wrong', 'with', 'being', 'conyo', 'ba']\n",
      "Step 4:\t [\"what's\", 'wrong', 'with', 'being', 'conyo', 'ba']\n",
      "Step 5:\t \"What's wrong with being conyo ba?\"\n",
      "\n"
     ]
    }
   ],
   "source": [
    "for sentence in num3_ateneo:\n",
    "    print(\"Sentence:\", sentence.strip(string.whitespace))\n",
    "    raw_word_list = sentence.strip(string.whitespace).split()\n",
    "    word_list = [x.strip(string.punctuation).lower() for x in raw_word_list]\n",
    "    print(\"Step 1:\\t\", word_list)\n",
    "    translated_sentence = [tlen_dictionary[x]  if x in tlen_dictionary else x for x in word_list]\n",
    "    print(\"Step 2:\\t\", translated_sentence)\n",
    "    \n",
    "    translated_sentence = [x[0] if isinstance(x,list) and len(x)==1 else x for x in translated_sentence]\n",
    "    print(\"Step 3:\\t\", translated_sentence)\n",
    "    \n",
    "    translated_sentence = [choose_translation(x,translated_sentence) if isinstance(x,list) else x for x in translated_sentence]\n",
    "    print(\"Step 4:\\t\", translated_sentence)\n",
    "    \n",
    "    translated_sentence = ' '.join([restore_format(translated_sentence[i], raw_word_list[i]) for i in range(len(raw_word_list))])\n",
    "    print(\"Step 5:\\t\", translated_sentence)\n",
    "    print()"
   ]
  },
  {
   "cell_type": "markdown",
   "metadata": {},
   "source": [
    "Same as above, but without debug text."
   ]
  },
  {
   "cell_type": "code",
   "execution_count": 24,
   "metadata": {},
   "outputs": [
    {
     "name": "stdout",
     "output_type": "stream",
     "text": [
      "Sentence: \"Manong, para lang d'yan sa may side.\"\n",
      "Result:\t \"Manong, to only d'yan sa have side.\"\n",
      "\n",
      "Sentence: \"Mej hassle naman this rain.\"\n",
      "Result:\t \"Mej hassle naman this rain.\"\n",
      "\n",
      "Sentence: \"Ano, bro? Katip later? G?\"\n",
      "Result:\t \"What, bro? Katip later? G?\"\n",
      "\n",
      "Sentence: \"Wait, I'm like gonna dinner lang with the fambam.\"\n",
      "Result:\t \"Wait, I'm like gonna dinner only with the fambam.\"\n",
      "\n",
      "Sentence: \"Which car am I gonna take today kaya?\"\n",
      "Result:\t \"Which car am I gonna take today so?\"\n",
      "\n",
      "Sentence: \"Don't make tusok sa fishball muna, it's not lutong yet.\"\n",
      "Result:\t \"Don't make stitch sa fishball muna, it's not cuisine yet.\"\n",
      "\n",
      "Sentence: \"Kuya magkano po yung neon balls?\"\n",
      "Result:\t \"Brother much po the neon balls?\"\n",
      "\n",
      "Sentence: \"Pweds ka ba later?\"\n",
      "Result:\t \"Pweds ka ba later?\"\n",
      "\n",
      "Sentence: \"Ugh, there's no parking space pa. Eh, I'm late na nga.\"\n",
      "Result:\t \"Ugh, there's no parking space pa. Eh, I'm late na nga.\"\n",
      "\n",
      "Sentence: \"It's like, super intense talaga. As in grabe.\"\n",
      "Result:\t \"It's like, super intense really. As in extreme.\"\n",
      "\n",
      "Sentence: \"I'll make paalam pa. You know naman my dad is strict, eh.\"\n",
      "Result:\t \"I'll make goodbye pa. You know naman my dad is strict, eh.\"\n",
      "\n",
      "Sentence: \"You're, like, so tagal ha.\"\n",
      "Result:\t \"You're, like, so duration ha.\"\n",
      "\n",
      "Sentence: \"Make it fast lang ha?\"\n",
      "Result:\t \"Make it fast only ha?\"\n",
      "\n",
      "Sentence: \"What's wrong with being conyo ba?\"\n",
      "Result:\t \"What's wrong with being conyo ba?\"\n",
      "\n"
     ]
    }
   ],
   "source": [
    "for sentence in num3_ateneo:\n",
    "    print(\"Sentence:\", sentence.strip(string.whitespace))\n",
    "    raw_word_list = sentence.strip(string.whitespace).split()\n",
    "    word_list = [x.strip(string.punctuation).lower() for x in raw_word_list]\n",
    "    translated_sentence = [tlen_dictionary[x]  if x in tlen_dictionary else x for x in word_list]\n",
    "    translated_sentence = [x[0] if isinstance(x,list) and len(x)==1 else x for x in translated_sentence]\n",
    "    translated_sentence = [choose_translation(x,translated_sentence,debug=False) if isinstance(x,list) else x for x in translated_sentence]\n",
    "    translated_sentence = ' '.join([restore_format(translated_sentence[i], raw_word_list[i]) for i in range(len(raw_word_list))])\n",
    "    print(\"Result:\\t\", translated_sentence)\n",
    "    print()"
   ]
  },
  {
   "cell_type": "markdown",
   "metadata": {},
   "source": [
    "### Problem 4\n",
    "Using **data/tl-en.txt**, create a one-to-one English to Filipino translation of your favorite English song. Develop functions to handle pluralities, and multiple entry results. Discuss your code and please put at least 1-liner docs for the functions. **10 pts.**"
   ]
  },
  {
   "cell_type": "markdown",
   "metadata": {},
   "source": [
    "We use the song You're the Inspiration, by Chicago."
   ]
  },
  {
   "cell_type": "code",
   "execution_count": 25,
   "metadata": {},
   "outputs": [],
   "source": [
    "# f = open('data/inspiration.txt', 'r')\n",
    "# num4_song = f.readlines()\n",
    "# f.close()"
   ]
  },
  {
   "cell_type": "code",
   "execution_count": 26,
   "metadata": {},
   "outputs": [],
   "source": [
    "num4_song = ['You know our love was meant to be\\n', 'The kind of love that lasts forever\\n', 'And I want you here with me\\n', 'From tonight until the end of time\\n', '\\n', 'You should know,\\n', 'Everywhere I go\\n', 'Always on my mind,\\n', 'In my heart\\n', 'In my soul\\n', '\\n', 'Baby\\n', '\\n', '[Chorus:]\\n', \"You're the meaning in my life\\n\", \"You're the inspiration\\n\", 'You bring feeling to my life\\n', \"You're the inspiration\\n\", 'Wanna have you near me\\n', \"I wanna have you hear me sayin'\\n\", 'No one needs you more than I need you\\n', '\\n', \"And I know, yes I know that it's plain to see\\n\", \"We're so in love when we're together\\n\", 'Now I know that I need you here with me\\n', 'From tonight until the end of time\\n', '\\n', 'You should know,\\n', 'Everywhere I go\\n', 'Always on my mind,\\n', \"You're in my heart\\n\", 'In my soul\\n']"
   ]
  },
  {
   "cell_type": "markdown",
   "metadata": {},
   "source": [
    "Instead of using just the dictionary like in number 3, we have a function to translate a word.\n",
    "\n",
    "We use NLTK's WordNet to lemmatize the word.\n",
    "If it is a plural noun, we convert it into a root word, translate it if possible, and prepend `\"mga\"`."
   ]
  },
  {
   "cell_type": "code",
   "execution_count": 27,
   "metadata": {},
   "outputs": [],
   "source": [
    "from nltk.stem import WordNetLemmatizer\n",
    "wnl = WordNetLemmatizer()\n",
    "def entl_translate_word(en_word):\n",
    "    lemma = wnl.lemmatize(en_word, 'n')\n",
    "    plural = True if en_word is not lemma else False\n",
    "    if plural:\n",
    "        if lemma in entl_dictionary:\n",
    "            return ['mga', entl_dictionary[lemma]]\n",
    "        else:\n",
    "            return ['mga', lemma]\n",
    "    else:\n",
    "        if en_word in entl_dictionary:\n",
    "            return [entl_dictionary[en_word]]\n",
    "        else:\n",
    "            return [en_word]"
   ]
  },
  {
   "cell_type": "markdown",
   "metadata": {},
   "source": [
    "Test runs of `entl_translate_word`."
   ]
  },
  {
   "cell_type": "code",
   "execution_count": 28,
   "metadata": {},
   "outputs": [
    {
     "name": "stdout",
     "output_type": "stream",
     "text": [
      "['mga', ['aklat', 'book', 'libro']]\n",
      "[['aklat', 'book', 'libro']]\n",
      "[['tao']]\n",
      "[['tao', 'taong', 'person']]\n",
      "[['magbigay', 'ibigay']]\n",
      "['mga', ['kama']]\n"
     ]
    }
   ],
   "source": [
    "print(entl_translate_word('books'))\n",
    "print(entl_translate_word('book'))\n",
    "print(entl_translate_word('people'))\n",
    "print(entl_translate_word('person'))\n",
    "print(entl_translate_word('give'))\n",
    "print(entl_translate_word('beds'))"
   ]
  },
  {
   "cell_type": "markdown",
   "metadata": {},
   "source": [
    "We then translate using the same method as problem 3.\n",
    "\n",
    "Ideally, we would have a Filipino corpus and use that as a basis to decide which of multiple translation options is better, by comparing distances of binary vectors. (see `choose_translation()`)\n",
    "\n",
    "However, due to lack of time and not being able to find a suitable corpus in time, we instead just pick the first translation candidate."
   ]
  },
  {
   "cell_type": "code",
   "execution_count": 29,
   "metadata": {},
   "outputs": [
    {
     "name": "stdout",
     "output_type": "stream",
     "text": [
      "Ikaw kilala ating love mga wa sinadya para\n",
      "Ang mabait of love yan mga huling\n",
      "And I nais ikaw dito kay me\n",
      "Mula tonight hanggang ang dulo of panahon\n",
      "\n",
      "Ikaw dapat kilala,\n",
      "Dako I pumunta\n",
      "Laging noong my isip,\n",
      "Nasa my puso\n",
      "Nasa my kaluluwa\n",
      "\n",
      "Sanggol\n",
      "\n",
      "[Chorus:]\n",
      "You're ang kahulugan nasa my buhay\n",
      "You're ang inspirasyon\n",
      "Ikaw dalhin pakiramdam para my buhay\n",
      "You're ang inspirasyon\n",
      "Wanna may ikaw malapit me\n",
      "I wanna may ikaw marinig me sayin'\n",
      "Walang isa mga kailangan ikaw pang Kaysa i kailangan\n",
      "\n",
      "And I kilala, opo I kilala yan it's payak para tingnan\n",
      "We're kaya nasa love kapag we're sama\n",
      "Ngayon I kilala yan I kailangan ikaw dito kay me\n",
      "Mula tonight hanggang ang dulo of panahon\n",
      "\n",
      "Ikaw dapat kilala,\n",
      "Dako I pumunta\n",
      "Laging noong my isip,\n",
      "You're nasa my puso\n",
      "Nasa my kaluluwa\n"
     ]
    }
   ],
   "source": [
    "import string\n",
    "translated_song = []\n",
    "for sentence in num4_song:\n",
    "    raw_word_list = sentence.strip(string.whitespace).split()\n",
    "    word_list = [x.strip(string.punctuation).lower() for x in raw_word_list]\n",
    "    \n",
    "    translated_sentence = []\n",
    "    for x in word_list:\n",
    "        for word in entl_translate_word(x):\n",
    "            translated_sentence.append(word)\n",
    "    \n",
    "    translated_sentence = [x[0] if isinstance(x,list) and len(x)==1 else x for x in translated_sentence]\n",
    "    translated_sentence = [x[0] if isinstance(x,list) else x for x in translated_sentence]\n",
    "    \n",
    "    translated_sentence = ' '.join([restore_format(translated_sentence[i], raw_word_list[i]) for i in range(len(raw_word_list))])\n",
    "    print(translated_sentence)"
   ]
  },
  {
   "cell_type": "markdown",
   "metadata": {},
   "source": [
    "### Bonus\n",
    "Repeat #4 but do a Filipino to English translation of your favorite Filipno song. Same specs apply. **5 pts.**"
   ]
  },
  {
   "cell_type": "code",
   "execution_count": 34,
   "metadata": {},
   "outputs": [],
   "source": [
    "# f = open('data/kundiman.txt', 'r', errors='ignore')\n",
    "# num5_song = f.readlines()\n",
    "# f.close()"
   ]
  },
  {
   "cell_type": "code",
   "execution_count": 33,
   "metadata": {},
   "outputs": [
    {
     "data": {
      "text/plain": [
       "['Para kang asukal\\n', 'Sintamis mong magmahal\\n', 'Para kang Pintura\\n', 'Buhay ko ikaw ang nagpinta\\n', 'Para kang unan\\n', 'Pinapainit mo ang aking tiyan\\n', 'Para kang kumot\\n', \"Na yumayakap sa tuwing ako'y nalulungkot\\n\", '\\n', \"Kaya't wag magtataka\\n\", 'Kung bakit ayaw kitang mawala\\n', '\\n', 'Kung hindi man tayo hanggang dulo\\n', 'Wag mong kalimutan\\n', 'Nandito lang ako\\n', 'Laging umaalalay\\n', 'Hindi ako lalayo\\n', 'Dahil ang tanging panalangin ko ay ikaw\\n', '\\n', 'Di baleng maghapon na umulan\\n', \"Basta't ikaw ang sasandalan liwanag\\n\", 'Ng lumulubog na araw\\n', 'Kay sarap pagmasdan\\n', 'Lalo na kapag nasisinagan ang iyong mukha\\n', 'Ayoko nang magsawa\\n', 'Hinding hindi magsasawa sa iyo\\n', '\\n', \"Kaya't wag magtataka\\n\", 'Kung bakit ayaw kitang mawala\\n', '\\n', 'Kung hindi man tayo hanggang dulo\\n', 'Wag mong kalimutan\\n', 'Nandito lang ako\\n', 'Laging umaalalay\\n', 'Hindi ako lalayo\\n', 'Dahil ang tanging panalangin ko\\n', '\\n', 'Bahala na ayoko muna magsalita\\n', 'Hayaan na muna natin\\n', 'Ang daloy ng tadhana\\n', '\\n', 'Kung hindi man tayo hanggang dulo\\n', 'Wag mong kalimutan\\n', 'Nandito lang ako\\n', 'Laging umaalalay\\n', 'Hindi ako lalayo\\n', '\\n', 'Kung hindi man tayo hanggang dulo\\n', 'Wag mong kalimutan\\n', 'Nandito lang ako\\n', 'Laging umaalalay\\n', 'Hindi ako lalayo\\n', '\\n', 'Dahil ang tanging panalangin\\n', 'Dahil ang tanging panalanigin ko ay ikaw ']"
      ]
     },
     "execution_count": 33,
     "metadata": {},
     "output_type": "execute_result"
    }
   ],
   "source": [
    "num5_song = ['Para kang asukal\\n', 'Sintamis mong magmahal\\n', 'Para kang Pintura\\n', 'Buhay ko ikaw ang nagpinta\\n', 'Para kang unan\\n', 'Pinapainit mo ang aking tiyan\\n', 'Para kang kumot\\n', \"Na yumayakap sa tuwing ako'y nalulungkot\\n\", '\\n', \"Kaya't wag magtataka\\n\", 'Kung bakit ayaw kitang mawala\\n', '\\n', 'Kung hindi man tayo hanggang dulo\\n', 'Wag mong kalimutan\\n', 'Nandito lang ako\\n', 'Laging umaalalay\\n', 'Hindi ako lalayo\\n', 'Dahil ang tanging panalangin ko ay ikaw\\n', '\\n', 'Di baleng maghapon na umulan\\n', \"Basta't ikaw ang sasandalan liwanag\\n\", 'Ng lumulubog na araw\\n', 'Kay sarap pagmasdan\\n', 'Lalo na kapag nasisinagan ang iyong mukha\\n', 'Ayoko nang magsawa\\n', 'Hinding hindi magsasawa sa iyo\\n', '\\n', \"Kaya't wag magtataka\\n\", 'Kung bakit ayaw kitang mawala\\n', '\\n', 'Kung hindi man tayo hanggang dulo\\n', 'Wag mong kalimutan\\n', 'Nandito lang ako\\n', 'Laging umaalalay\\n', 'Hindi ako lalayo\\n', 'Dahil ang tanging panalangin ko\\n', '\\n', 'Bahala na ayoko muna magsalita\\n', 'Hayaan na muna natin\\n', 'Ang daloy ng tadhana\\n', '\\n', 'Kung hindi man tayo hanggang dulo\\n', 'Wag mong kalimutan\\n', 'Nandito lang ako\\n', 'Laging umaalalay\\n', 'Hindi ako lalayo\\n', '\\n', 'Kung hindi man tayo hanggang dulo\\n', 'Wag mong kalimutan\\n', 'Nandito lang ako\\n', 'Laging umaalalay\\n', 'Hindi ako lalayo\\n', '\\n', 'Dahil ang tanging panalangin\\n', 'Dahil ang tanging panalanigin ko ay ikaw ']"
   ]
  },
  {
   "cell_type": "markdown",
   "metadata": {},
   "source": []
  }
 ],
 "metadata": {
  "kernelspec": {
   "display_name": "Python 3",
   "language": "python",
   "name": "python3"
  },
  "language_info": {
   "codemirror_mode": {
    "name": "ipython",
    "version": 3
   },
   "file_extension": ".py",
   "mimetype": "text/x-python",
   "name": "python",
   "nbconvert_exporter": "python",
   "pygments_lexer": "ipython3",
   "version": "3.7.0"
  }
 },
 "nbformat": 4,
 "nbformat_minor": 4
}
